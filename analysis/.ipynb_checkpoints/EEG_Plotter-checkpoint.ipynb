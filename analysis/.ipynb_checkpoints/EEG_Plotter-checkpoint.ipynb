{
 "cells": [
  {
   "cell_type": "code",
   "execution_count": 3,
   "metadata": {},
   "outputs": [],
   "source": [
    "\"\"\"IMPORT BOX\"\"\"\n",
    "import numpy as np\n",
    "import pandas as pd\n",
    "import matplotlib.pyplot as plt\n",
    "from matplotlib.pyplot import figure\n",
    "import math"
   ]
  },
  {
   "cell_type": "code",
   "execution_count": 4,
   "metadata": {},
   "outputs": [
    {
     "data": {
      "text/plain": [
       "0      -548.339844\n",
       "1      -797.363281\n",
       "2       298.828125\n",
       "3      -583.984375\n",
       "4       444.824219\n",
       "5       331.054688\n",
       "6       431.640625\n",
       "7      -585.937500\n",
       "8      -187.988281\n",
       "9      -917.480469\n",
       "10      666.992188\n",
       "11       53.222656\n",
       "12      956.054688\n",
       "13     -675.292969\n",
       "14      422.851562\n",
       "15      799.316406\n",
       "16      702.148438\n",
       "17     -794.433594\n",
       "18      680.175781\n",
       "19     -832.031250\n",
       "20      944.824219\n",
       "21      812.988281\n",
       "22     -206.542969\n",
       "23     -563.476562\n",
       "24      708.496094\n",
       "25     -554.687500\n",
       "26      794.921875\n",
       "27     -823.242188\n",
       "28     -296.386719\n",
       "29      575.195312\n",
       "           ...    \n",
       "4688    646.972656\n",
       "4689   -197.265625\n",
       "4690   -874.511719\n",
       "4691   -261.230469\n",
       "4692   -341.796875\n",
       "4693    531.250000\n",
       "4694    238.769531\n",
       "4695   -747.558594\n",
       "4696   -109.375000\n",
       "4697   -779.296875\n",
       "4698      7.812500\n",
       "4699   -173.339844\n",
       "4700   -857.421875\n",
       "4701   -432.617188\n",
       "4702   -245.605469\n",
       "4703   -777.832031\n",
       "4704   -607.421875\n",
       "4705    413.085938\n",
       "4706   -254.882812\n",
       "4707     30.273438\n",
       "4708   -608.886719\n",
       "4709    355.468750\n",
       "4710    127.929688\n",
       "4711    550.781250\n",
       "4712   -871.582031\n",
       "4713    953.613281\n",
       "4714   -494.140625\n",
       "4715   -175.781250\n",
       "4716   -995.117188\n",
       "4717    802.246094\n",
       "Name: potential, Length: 4718, dtype: float64"
      ]
     },
     "execution_count": 4,
     "metadata": {},
     "output_type": "execute_result"
    }
   ],
   "source": [
    "\"\"\"File Import\"\"\"\n",
    "df = pd.read_csv('../ESP32 Connection/out.csv')\n",
    "\n",
    "df.columns = ['potential', 'none']\n",
    "\n",
    "df['potential']"
   ]
  },
  {
   "cell_type": "code",
   "execution_count": 5,
   "metadata": {},
   "outputs": [
    {
     "name": "stdout",
     "output_type": "stream",
     "text": [
      "potential\n"
     ]
    },
    {
     "data": {
      "image/png": "[encoded data removed]",
      "text/plain": [
       "<Figure size 432x288 with 1 Axes>"
      ]
     },
     "metadata": {
      "needs_background": "light"
     },
     "output_type": "display_data"
    }
   ],
   "source": [
    "\"\"\"Plotting\"\"\"\n",
    "title = 'potential'\n",
    "\n",
    "print(title)\n",
    "plt.title('Heck')\n",
    "plt.plot(df[title], 'b')\n",
    "\n",
    "plt.xlabel('Time [seconds]')\n",
    "plt.ylabel(title)\n",
    "plt.show()\n",
    "    "
   ]
  },
  {
   "cell_type": "code",
   "execution_count": 51,
   "metadata": {},
   "outputs": [],
   "source": [
    "def fftPSD(array, sample_f):\n",
    "    ps = np.abs(np.fft.fft(array)) ** 2\n",
    "    time_step = 1 / sample_f\n",
    "    freqs = np.fft.fftfreq(array.size, time_step)\n",
    "    idx = np.argsort(freqs)\n",
    "    return freqs[idx], ps[idx]\n",
    "\n",
    "def getBands(array, sample_f):\n",
    "    # TODO: Once EEG decryption is validated, populate with frequency band averaging. \n",
    "    freqs, ps = self.fftPSD(array, sample_f)\n",
    "\n",
    "    mask = freqs > 0\n",
    "    \n",
    "    freqs = freqs[mask]\n",
    "    ps = ps[mask]\n",
    "\n",
    "    delta_mask = freqs < 4\n",
    "    theta_mask = (4 < freqs) & (freqs < 7)\n",
    "    alpha_mask = (8 < freqs) & (freqs < 15)\n",
    "    beta_mask = (16 < freqs) & (freqs < 31)\n",
    "    gamma_mask = freqs > 32\n",
    "\n",
    "\n",
    "    delta = np.average(ps[delta_mask])\n",
    "    theta = np.average(ps[theta_mask])\n",
    "    alpha = np.average(ps[alpha_mask])\n",
    "    beta = np.average(ps[beta_mask])\n",
    "    gamma = np.average(ps[gamma_mask])\n",
    "    \n",
    "    # TODO: Implement a band outputter to the text file\n",
    "    # self.outputData(dat)\n",
    "    return [alpha, beta, beta, gamma, theta] # Per Emotiv's standards"
   ]
  },
  {
   "cell_type": "code",
   "execution_count": 52,
   "metadata": {},
   "outputs": [
    {
     "ename": "NameError",
     "evalue": "name 'self' is not defined",
     "output_type": "error",
     "traceback": [
      "\u001b[0;31m---------------------------------------------------------------------------\u001b[0m",
      "\u001b[0;31mNameError\u001b[0m                                 Traceback (most recent call last)",
      "\u001b[0;32m<ipython-input-52-09de339b983c>\u001b[0m in \u001b[0;36m<module>\u001b[0;34m\u001b[0m\n\u001b[0;32m----> 1\u001b[0;31m \u001b[0mgetBands\u001b[0m\u001b[0;34m(\u001b[0m\u001b[0mdf\u001b[0m\u001b[0;34m[\u001b[0m\u001b[0;34m'potential'\u001b[0m\u001b[0;34m]\u001b[0m\u001b[0;34m,\u001b[0m \u001b[0;36m256\u001b[0m\u001b[0;34m)\u001b[0m\u001b[0;34m\u001b[0m\u001b[0;34m\u001b[0m\u001b[0m\n\u001b[0m",
      "\u001b[0;32m<ipython-input-51-32614616dab6>\u001b[0m in \u001b[0;36mgetBands\u001b[0;34m(array, sample_f)\u001b[0m\n\u001b[1;32m      8\u001b[0m \u001b[0;32mdef\u001b[0m \u001b[0mgetBands\u001b[0m\u001b[0;34m(\u001b[0m\u001b[0marray\u001b[0m\u001b[0;34m,\u001b[0m \u001b[0msample_f\u001b[0m\u001b[0;34m)\u001b[0m\u001b[0;34m:\u001b[0m\u001b[0;34m\u001b[0m\u001b[0;34m\u001b[0m\u001b[0m\n\u001b[1;32m      9\u001b[0m     \u001b[0;31m# TODO: Once EEG decryption is validated, populate with frequency band averaging.\u001b[0m\u001b[0;34m\u001b[0m\u001b[0;34m\u001b[0m\u001b[0;34m\u001b[0m\u001b[0m\n\u001b[0;32m---> 10\u001b[0;31m     \u001b[0mfreqs\u001b[0m\u001b[0;34m,\u001b[0m \u001b[0mps\u001b[0m \u001b[0;34m=\u001b[0m \u001b[0mself\u001b[0m\u001b[0;34m.\u001b[0m\u001b[0mfftPSD\u001b[0m\u001b[0;34m(\u001b[0m\u001b[0mnp\u001b[0m\u001b[0;34m.\u001b[0m\u001b[0masarray\u001b[0m\u001b[0;34m(\u001b[0m\u001b[0mself\u001b[0m\u001b[0;34m.\u001b[0m\u001b[0mEEG\u001b[0m\u001b[0;34m)\u001b[0m\u001b[0;34m,\u001b[0m \u001b[0msample_f\u001b[0m\u001b[0;34m)\u001b[0m\u001b[0;34m\u001b[0m\u001b[0;34m\u001b[0m\u001b[0m\n\u001b[0m\u001b[1;32m     11\u001b[0m \u001b[0;34m\u001b[0m\u001b[0m\n\u001b[1;32m     12\u001b[0m     \u001b[0mmask\u001b[0m \u001b[0;34m=\u001b[0m \u001b[0mfreqs\u001b[0m \u001b[0;34m>\u001b[0m \u001b[0;36m0\u001b[0m\u001b[0;34m\u001b[0m\u001b[0;34m\u001b[0m\u001b[0m\n",
      "\u001b[0;31mNameError\u001b[0m: name 'self' is not defined"
     ]
    }
   ],
   "source": [
    "getBands(df['potential'], 256)"
   ]
  },
  {
   "cell_type": "code",
   "execution_count": 37,
   "metadata": {},
   "outputs": [
    {
     "name": "stdout",
     "output_type": "stream",
     "text": [
      "Delta: 5824397074.182391; Theta: 2129982946.8529966; Alpha: 1717770432.0039895; Beta: 1487682526.3934596; Gamma: 1505689698.1912837;\n"
     ]
    }
   ],
   "source": [
    "mask = freqs > 0\n",
    "    \n",
    "freqs = freqs[mask]\n",
    "ps = ps[mask]\n",
    "\n",
    "\n",
    "delta_mask = freqs < 4\n",
    "theta_mask = (4 < freqs) & (freqs < 7)\n",
    "alpha_mask = (8 < freqs) & (freqs < 15)\n",
    "beta_mask = (16 < freqs) & (freqs < 31)\n",
    "gamma_mask = freqs > 32\n",
    "\n",
    "\n",
    "delta = np.average(ps[delta_mask])\n",
    "theta = np.average(ps[theta_mask])\n",
    "alpha = np.average(ps[alpha_mask])\n",
    "beta = np.average(ps[beta_mask])\n",
    "gamma = np.average(ps[gamma_mask])\n",
    "\n",
    "print('Delta: {}; Theta: {}; Alpha: {}; Beta: {}; Gamma: {};'.format(delta, theta, alpha, beta, gamma))"
   ]
  },
  {
   "cell_type": "code",
   "execution_count": 41,
   "metadata": {},
   "outputs": [
    {
     "data": {
      "image/png": "[encoded data removed]",
      "text/plain": [
       "<Figure size 432x288 with 1 Axes>"
      ]
     },
     "metadata": {
      "needs_background": "light"
     },
     "output_type": "display_data"
    }
   ],
   "source": [
    "plt.title('Power Spectrum Distribution')\n",
    "plt.plot(freqs, ps, 'b')\n",
    "\n",
    "plt.xlabel('Frequency')\n",
    "plt.ylabel('Power')\n",
    "plt.show()"
   ]
  },
  {
   "cell_type": "code",
   "execution_count": 46,
   "metadata": {},
   "outputs": [
    {
     "data": {
      "text/plain": [
       "[array([ True,  True,  True, ..., False, False, False])]"
      ]
     },
     "execution_count": 46,
     "metadata": {},
     "output_type": "execute_result"
    }
   ],
   "source": []
  },
  {
   "cell_type": "code",
   "execution_count": null,
   "metadata": {},
   "outputs": [],
   "source": []
  }
 ],
 "metadata": {
  "kernelspec": {
   "display_name": "Python 3",
   "language": "python",
   "name": "python3"
  },
  "language_info": {
   "codemirror_mode": {
    "name": "ipython",
    "version": 3
   },
   "file_extension": ".py",
   "mimetype": "text/x-python",
   "name": "python",
   "nbconvert_exporter": "python",
   "pygments_lexer": "ipython3",
   "version": "3.7.1"
  }
 },
 "nbformat": 4,
 "nbformat_minor": 2
}
